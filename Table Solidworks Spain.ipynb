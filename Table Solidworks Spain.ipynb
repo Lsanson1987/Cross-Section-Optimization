{
 "cells": [
  {
   "cell_type": "code",
   "execution_count": null,
   "metadata": {},
   "outputs": [
    {
     "name": "stdout",
     "output_type": "stream",
     "text": [
      "7.09795112896100e-5\n",
      "7097.95112896100\n"
     ]
    }
   ],
   "source": [
    "#  Moment of inertia calculation\n",
    "\n",
    "from sympy import *\n",
    "\n",
    "\n",
    "# I beam without bottom\n",
    "\n",
    "# top section (constant)\n",
    "I_top = 1/12 * 0.800 * 0.01**3\n",
    "Area_top = 0.800 * 0.01 # Area of the top portion\n",
    "middle_height = 0.289\n",
    "bottom_width = 0.005\n",
    "\n",
    "# middle_height, bottom_width = symbols('middle_height bottom_width', positive=True)\n",
    "\n",
    "# Symbols of all unknowns and bottom section\n",
    "I, I_middle, Area_middle, com_y_middle, com_y_top, com_y_bottom, com_y, Area_bottom, I_bottom = symbols('I I_middle Area_middle com_y_middle com_y_top com_y_bottom com_y Area_bottom I_bottom')\n",
    "\n",
    "# middle section\n",
    "eq1 = Eq(I_middle, 1/12 * 0.01 * middle_height**3)\n",
    "# middle area\n",
    "eq2 = Eq(Area_middle, 0.01 * middle_height)\n",
    "# bottom section\n",
    "eqbot = Eq(I_bottom, 1/12 * bottom_width * 0.01**3)\n",
    "# bottom area\n",
    "eqbot_area = Eq(Area_bottom, bottom_width * 0.01)\n",
    "# center of mass y direction (assume symmetric around y axis)\n",
    "eq3 = Eq(com_y_middle, middle_height/2)\n",
    "eq4 = Eq(com_y_top, com_y_middle + middle_height/2 + 0.01/2)\n",
    "eqbot_y = Eq(com_y_bottom, -0.01/2)\n",
    "# Overall center of mass\n",
    "eq5 = Eq(com_y, (Area_top * com_y_top + Area_middle * com_y_middle + Area_bottom * com_y_bottom) / (Area_top + Area_middle + Area_bottom))\n",
    "# Moment of inertia around the center of mass\n",
    "eq6 = Eq(I, I_top + I_middle + I_bottom + Area_top * (com_y_top - com_y)**2 + Area_middle * (com_y_middle - com_y)**2 + Area_bottom * (com_y_bottom - com_y)**2)\n",
    "\n",
    "sol = solve([eq1, eq2, eqbot, eqbot_area, eq3, eq4, eqbot_y, eq5, eq6], [I, Area_middle, Area_bottom, com_y_middle, com_y_top, com_y_bottom, com_y, I_bottom, I_middle])\n",
    "# print I moment of inertia\n",
    "print(sol[0][0]) \n",
    "print(sol[0][0]*10**8)\n"
   ]
  },
  {
   "cell_type": "code",
   "execution_count": 1,
   "metadata": {},
   "outputs": [
    {
     "name": "stderr",
     "output_type": "stream",
     "text": [
      "C:\\Users\\imane\\AppData\\Local\\Packages\\PythonSoftwareFoundation.Python.3.12_qbz5n2kfra8p0\\LocalCache\\local-packages\\Python312\\site-packages\\scipy\\optimize\\_slsqp_py.py:434: RuntimeWarning: Values in x were outside bounds during a minimize step, clipping to bounds\n",
      "  fx = wrapped_fun(x)\n",
      "C:\\Users\\imane\\AppData\\Local\\Packages\\PythonSoftwareFoundation.Python.3.12_qbz5n2kfra8p0\\LocalCache\\local-packages\\Python312\\site-packages\\scipy\\optimize\\_slsqp_py.py:438: RuntimeWarning: Values in x were outside bounds during a minimize step, clipping to bounds\n",
      "  g = append(wrapped_grad(x), 0.0)\n",
      "C:\\Users\\imane\\AppData\\Local\\Packages\\PythonSoftwareFoundation.Python.3.12_qbz5n2kfra8p0\\LocalCache\\local-packages\\Python312\\site-packages\\scipy\\optimize\\_slsqp_py.py:498: RuntimeWarning: Values in x were outside bounds during a minimize step, clipping to bounds\n",
      "  a_ieq = vstack([con['jac'](x, *con['args'])\n"
     ]
    },
    {
     "name": "stdout",
     "output_type": "stream",
     "text": [
      "Optimal middle height: 293.6291417037477 mm\n",
      "Optimal bottom width: 0.27255019554553694 mm\n",
      "Minimum Area: 10939.016918992931 mm^2\n",
      "Moment of Inertia achieved: 7085.640476117162 mm^4\n"
     ]
    },
    {
     "data": {
      "text/plain": [
       "<matplotlib.patches.Rectangle at 0x2828178c980>"
      ]
     },
     "execution_count": 1,
     "metadata": {},
     "output_type": "execute_result"
    },
    {
     "data": {
      "image/png": "[encoded data removed]",
      "text/plain": [
       "<Figure size 640x480 with 1 Axes>"
      ]
     },
     "metadata": {},
     "output_type": "display_data"
    }
   ],
   "source": [
    "# Moment of Inertia Optimization\n",
    "from sympy import symbols, Eq, solve\n",
    "from sympy.utilities.lambdify import lambdify\n",
    "from scipy.optimize import minimize\n",
    "\n",
    "# Variables\n",
    "middle_height, bottom_width = symbols('middle_height bottom_width', positive=True)\n",
    "\n",
    "# Fixed values\n",
    "limb_width = 0.01\n",
    "top_width = 0.800\n",
    "I_top = 1/12 * top_width * limb_width**3\n",
    "Area_top = top_width * limb_width\n",
    "\n",
    "# Define all equations (same as before)\n",
    "I, I_middle, Area_middle, com_y_middle, com_y_top, com_y_bottom, com_y, Area_bottom, I_bottom = symbols('I I_middle Area_middle com_y_middle com_y_top com_y_bottom com_y Area_bottom I_bottom')\n",
    "\n",
    "eq1 = Eq(I_middle, 1/12 * limb_width * middle_height**3)\n",
    "eq2 = Eq(Area_middle, limb_width * middle_height)\n",
    "eqbot = Eq(I_bottom, 1/12 * bottom_width * limb_width**3)\n",
    "eqbot_area = Eq(Area_bottom, bottom_width * limb_width)\n",
    "eq3 = Eq(com_y_middle, middle_height/2)\n",
    "eq4 = Eq(com_y_top, com_y_middle + middle_height/2 + limb_width/2)\n",
    "eqbot_y = Eq(com_y_bottom, -limb_width/2)\n",
    "eq5 = Eq(com_y, (Area_top * com_y_top + Area_middle * com_y_middle + Area_bottom * com_y_bottom) / (Area_top + Area_middle + Area_bottom))\n",
    "eq6 = Eq(I, I_top + I_middle + I_bottom + Area_top * (com_y_top - com_y)**2 + Area_middle * (com_y_middle - com_y)**2 + Area_bottom * (com_y_bottom - com_y)**2)\n",
    "\n",
    "# Solve for I, Area_middle, Area_bottom\n",
    "sol = solve([eq1, eq2, eqbot, eqbot_area, eq3, eq4, eqbot_y, eq5, eq6], [I, Area_middle, Area_bottom, com_y_middle, com_y_top, com_y_bottom, com_y, I_bottom, I_middle])\n",
    "\n",
    "I_expr = sol[0][0]\n",
    "Area_middle_expr = sol[0][1]\n",
    "Area_bottom_expr = sol[0][2]\n",
    "\n",
    "# Convert to numerical functions\n",
    "I_func = lambdify((middle_height, bottom_width), I_expr)\n",
    "Area_middle_func = lambdify(middle_height, Area_middle_expr)\n",
    "Area_bottom_func = lambdify(bottom_width, Area_bottom_expr)\n",
    "\n",
    "# Objective: minimize total area\n",
    "def objective(vars):\n",
    "    mh, bw = vars\n",
    "    return Area_top + Area_middle_func(mh) + Area_bottom_func(bw)\n",
    "\n",
    "# Constraint: I >= 7000\n",
    "def constraint(vars):\n",
    "    mh, bw = vars\n",
    "    return I_func(mh, bw) - 0.00007083  # 7000 cm^4 = 0.00007 m^4\n",
    "\n",
    "# Optimization\n",
    "cons = {'type': 'ineq', 'fun': constraint}\n",
    "bounds = [(0.0001, 0.5), (0.000001, 0.8)]  # Reasonable bounds\n",
    "result = minimize(objective, x0=[300, 0.0001], bounds=bounds, constraints=cons)\n",
    "\n",
    "print(\"Optimal middle height:\", result.x[0]*10**3, \"mm\")\n",
    "print(\"Optimal bottom width:\", result.x[1]*10**3, \"mm\")\n",
    "print(\"Minimum Area:\", objective(result.x)*10**6, \"mm^2\")\n",
    "print(\"Moment of Inertia achieved:\", I_func(result.x[0], result.x[1])*10**8, \"mm^4\")\n",
    "\n",
    "# draw in matplotlib\n",
    "import matplotlib.pyplot as plt\n",
    "from matplotlib.patches import Rectangle\n",
    "\n",
    "optimal_mh = result.x[0]\n",
    "optimal_bw = result.x[1]\n",
    "\n",
    "fig, ax = plt.subplots()\n",
    "rect_top = Rectangle(((1-top_width)/2, optimal_mh+limb_width+0.2), top_width, limb_width, edgecolor='black', facecolor='blue')\n",
    "rect_middle = Rectangle(((1-top_width)/2+top_width/2, limb_width+0.2), limb_width, optimal_mh, edgecolor='black', facecolor='red')\n",
    "rect_bottom = Rectangle(((1-top_width)/2+top_width/2-optimal_bw/2+limb_width/2, 0.2), optimal_bw, limb_width, edgecolor='black', facecolor='green')\n",
    "ax.add_patch(rect_top)\n",
    "ax.add_patch(rect_middle)\n",
    "ax.add_patch(rect_bottom)\n"
   ]
  }
 ],
 "metadata": {
  "kernelspec": {
   "display_name": "Python 3",
   "language": "python",
   "name": "python3"
  },
  "language_info": {
   "codemirror_mode": {
    "name": "ipython",
    "version": 3
   },
   "file_extension": ".py",
   "mimetype": "text/x-python",
   "name": "python",
   "nbconvert_exporter": "python",
   "pygments_lexer": "ipython3",
   "version": "3.12.9"
  }
 },
 "nbformat": 4,
 "nbformat_minor": 2
}
